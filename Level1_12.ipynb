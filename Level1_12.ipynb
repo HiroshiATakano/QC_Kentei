{
  "nbformat": 4,
  "nbformat_minor": 0,
  "metadata": {
    "colab": {
      "provenance": [],
      "include_colab_link": true
    },
    "kernelspec": {
      "name": "python3",
      "display_name": "Python 3"
    },
    "language_info": {
      "name": "python"
    }
  },
  "cells": [
    {
      "cell_type": "markdown",
      "metadata": {
        "id": "view-in-github",
        "colab_type": "text"
      },
      "source": [
        "<a href=\"https://colab.research.google.com/github/HiroshiATakano/QC_Kentei/blob/main/Level1_12.ipynb\" target=\"_parent\"><img src=\"https://colab.research.google.com/assets/colab-badge.svg\" alt=\"Open In Colab\"/></a>"
      ]
    },
    {
      "cell_type": "markdown",
      "source": [
        "# Diseño de experimentos"
      ],
      "metadata": {
        "id": "MzmMKNdZ1vKe"
      }
    },
    {
      "cell_type": "code",
      "execution_count": 2,
      "metadata": {
        "id": "tIMn0eJbuw6h",
        "colab": {
          "base_uri": "https://localhost:8080/"
        },
        "outputId": "ce282293-3b3e-4031-8d46-701a09d14529"
      },
      "outputs": [
        {
          "output_type": "stream",
          "name": "stdout",
          "text": [
            "Mounted at /content/drive/\n"
          ]
        }
      ],
      "source": [
        "from google.colab import drive\n",
        "drive.mount('/content/drive/')"
      ]
    },
    {
      "cell_type": "code",
      "source": [
        "def ensure_and_move_to_folder(folder_name):\n",
        "  current_dir = os.getcwd()\n",
        "  target_path = os.path.join(current_dir, folder_name)\n",
        "\n",
        "  if not os.path.exists(target_path):\n",
        "    os.makedirs(target_path)\n",
        "    print(f\"Folder '{folder_name}' created successfully.\")\n",
        "  else:\n",
        "    print(f\"Folder '{folder_name}' already exists.\")\n",
        "\n",
        "  #os.chdir(target_path)"
      ],
      "metadata": {
        "id": "i7MTWBQpiou6"
      },
      "execution_count": 3,
      "outputs": []
    },
    {
      "cell_type": "code",
      "source": [
        "import os\n",
        "\n",
        "folder_name = 'QC_Kentei'\n",
        "ensure_and_move_to_folder(folder_name)\n",
        "\n",
        "path = os.getcwd()\n",
        "\n",
        "try:\n",
        "  os.chdir(path + '/drive/My Drive/QC_Kentei')\n",
        "except:\n",
        "  pass\n",
        "\n",
        "os.getcwd()"
      ],
      "metadata": {
        "colab": {
          "base_uri": "https://localhost:8080/",
          "height": 54
        },
        "id": "gp0LtLdlvMpM",
        "outputId": "ea9b419c-1cef-4a1a-9a6a-a3a074a7f93a"
      },
      "execution_count": 4,
      "outputs": [
        {
          "output_type": "stream",
          "name": "stdout",
          "text": [
            "Folder 'QC_Kentei' created successfully.\n"
          ]
        },
        {
          "output_type": "execute_result",
          "data": {
            "text/plain": [
              "'/content/drive/My Drive/QC_Kentei'"
            ],
            "application/vnd.google.colaboratory.intrinsic+json": {
              "type": "string"
            }
          },
          "metadata": {},
          "execution_count": 4
        }
      ]
    },
    {
      "cell_type": "code",
      "source": [
        "!pip install japanize-matplotlib"
      ],
      "metadata": {
        "colab": {
          "base_uri": "https://localhost:8080/"
        },
        "id": "6Go9RkIxvWrJ",
        "outputId": "6be1055e-227d-4323-d560-7ba404460ed9"
      },
      "execution_count": null,
      "outputs": [
        {
          "output_type": "stream",
          "name": "stdout",
          "text": [
            "Collecting japanize-matplotlib\n",
            "  Downloading japanize-matplotlib-1.1.3.tar.gz (4.1 MB)\n",
            "\u001b[2K     \u001b[90m━━━━━━━━━━━━━━━━━━━━━━━━━━━━━━━━━━━━━━━━\u001b[0m \u001b[32m4.1/4.1 MB\u001b[0m \u001b[31m10.4 MB/s\u001b[0m eta \u001b[36m0:00:00\u001b[0m\n",
            "\u001b[?25h  Preparing metadata (setup.py) ... \u001b[?25l\u001b[?25hdone\n",
            "Requirement already satisfied: matplotlib in /usr/local/lib/python3.11/dist-packages (from japanize-matplotlib) (3.10.0)\n",
            "Requirement already satisfied: contourpy>=1.0.1 in /usr/local/lib/python3.11/dist-packages (from matplotlib->japanize-matplotlib) (1.3.1)\n",
            "Requirement already satisfied: cycler>=0.10 in /usr/local/lib/python3.11/dist-packages (from matplotlib->japanize-matplotlib) (0.12.1)\n",
            "Requirement already satisfied: fonttools>=4.22.0 in /usr/local/lib/python3.11/dist-packages (from matplotlib->japanize-matplotlib) (4.56.0)\n",
            "Requirement already satisfied: kiwisolver>=1.3.1 in /usr/local/lib/python3.11/dist-packages (from matplotlib->japanize-matplotlib) (1.4.8)\n",
            "Requirement already satisfied: numpy>=1.23 in /usr/local/lib/python3.11/dist-packages (from matplotlib->japanize-matplotlib) (1.26.4)\n",
            "Requirement already satisfied: packaging>=20.0 in /usr/local/lib/python3.11/dist-packages (from matplotlib->japanize-matplotlib) (24.2)\n",
            "Requirement already satisfied: pillow>=8 in /usr/local/lib/python3.11/dist-packages (from matplotlib->japanize-matplotlib) (11.1.0)\n",
            "Requirement already satisfied: pyparsing>=2.3.1 in /usr/local/lib/python3.11/dist-packages (from matplotlib->japanize-matplotlib) (3.2.1)\n",
            "Requirement already satisfied: python-dateutil>=2.7 in /usr/local/lib/python3.11/dist-packages (from matplotlib->japanize-matplotlib) (2.8.2)\n",
            "Requirement already satisfied: six>=1.5 in /usr/local/lib/python3.11/dist-packages (from python-dateutil>=2.7->matplotlib->japanize-matplotlib) (1.17.0)\n",
            "Building wheels for collected packages: japanize-matplotlib\n",
            "  Building wheel for japanize-matplotlib (setup.py) ... \u001b[?25l\u001b[?25hdone\n",
            "  Created wheel for japanize-matplotlib: filename=japanize_matplotlib-1.1.3-py3-none-any.whl size=4120257 sha256=22095d88fe06212b223ab715bf798fccdbb0bcee420b76424ce61493ec809501\n",
            "  Stored in directory: /root/.cache/pip/wheels/da/a1/71/b8faeb93276fed10edffcca20746f1ef6f8d9e071eee8425fc\n",
            "Successfully built japanize-matplotlib\n"
          ]
        }
      ]
    },
    {
      "cell_type": "code",
      "source": [
        "folder_name = 'Data_1'\n",
        "ensure_and_move_to_folder(folder_name)"
      ],
      "metadata": {
        "id": "x2tAP5g96KTv"
      },
      "execution_count": null,
      "outputs": []
    },
    {
      "cell_type": "code",
      "source": [
        "import numpy as np\n",
        "import pandas as pd\n",
        "import matplotlib.pyplot as plt\n",
        "import japanize_matplotlib\n",
        "import gspread\n",
        "\n",
        "from google.colab import auth\n",
        "auth.authenticate_user()\n",
        "\n",
        "from google.auth import default\n",
        "creds, _ = default()\n",
        "gc = gspread.authorize(creds)\n",
        "\n",
        "from gspread_dataframe import get_as_dataframe, set_with_dataframe"
      ],
      "metadata": {
        "id": "A3tKRrzLvZ1V"
      },
      "execution_count": null,
      "outputs": []
    },
    {
      "cell_type": "markdown",
      "source": [
        "## 12.1\n",
        "\n",
        "L8直交配列表を用いた実験の結果、表12.1のデータを得た。\n",
        "\n",
        "1. 直交配列表を用いた分散分析表を作成せよ\n",
        "\n",
        "Resultado del experimento utilizando la tabla de diseño ortogonal L18.\n",
        "\n",
        "1. Elabore una tabla de análisis de varianza utilizando una matriz ortogonal."
      ],
      "metadata": {
        "id": "aMG1SjCGEx1D"
      }
    },
    {
      "cell_type": "code",
      "source": [
        "url = \"https://docs.google.com/spreadsheets/d/1Ma7ehT4TAnkUwJjspP-C3mwJA1hYmbJr8B9GJSFI0lU/edit?usp=sharing\"\n",
        "ss = gc.open_by_url(url)\n",
        "\n",
        "# Obtener los datos (como lista)\n",
        "st = ss.worksheet(\"Sheet5\")\n",
        "list_of_lists = st.get_all_values()\n",
        "\n",
        "df = pd.DataFrame.from_records(list_of_lists)\n",
        "df.columns = df.iloc[0]\n",
        "df = df.drop(index=0)\n",
        "\n",
        "df = df.apply(pd.to_numeric)\n",
        "\n",
        "df.to_excel(\"Data_1/12_1.xlsx\",index=False)\n",
        "\n",
        "data = df.to_dict(orient=\"list\")"
      ],
      "metadata": {
        "id": "uFGDffuW486R"
      },
      "execution_count": null,
      "outputs": []
    },
    {
      "cell_type": "code",
      "source": [
        "import polars as pl\n",
        "\n",
        "# Crear un DataFrame con Polars\n",
        "df2 = pl.DataFrame(data)\n",
        "\n",
        "# Mostrar los datos\n",
        "print(\"Tabla 12.1 Tabla de diseño ortogonal L8 y resultados del experimento\")\n",
        "print(df2)"
      ],
      "metadata": {
        "id": "4rAp6pWZ66br"
      },
      "execution_count": null,
      "outputs": []
    },
    {
      "cell_type": "code",
      "source": [
        "def calc_ss(df: pl.DataFrame, factor: str, data_col: str, total_mean: float) -> float:\n",
        "    \"\"\"\n",
        "    Función para calcular la suma de los cuadrados en el factor especificado.\n",
        "    \"\"\"\n",
        "    # Estadísticas de un grupo\n",
        "    df_grp1 = df.filter(pl.col(factor) == 1)\n",
        "    mean_1 = df_grp1.select(pl.col(data_col).mean()).item()\n",
        "    n1 = df_grp1.height\n",
        "\n",
        "    # Estadísticas de dos grupos\n",
        "    df_grp2 = df.filter(pl.col(factor) == 2)\n",
        "    mean_2 = df_grp2.select(pl.col(data_col).mean()).item()\n",
        "    n2 = df_grp2.height\n",
        "\n",
        "    # Cálculo de la suma de los cuadrados\n",
        "    ss = n1 * ((mean_1 - total_mean) ** 2) + n2 * ((mean_2 - total_mean) ** 2)\n",
        "    return ss\n",
        "\n",
        "# Suma total de los cuadrados (Total Sum of Squares)\n",
        "total_mean = df['Data'].mean()\n",
        "total_ss = sum((df['Data'] - total_mean) ** 2)\n",
        "\n",
        "# Calcular la suma de los cuadrados de cada factor\n",
        "ss_A = calc_ss(df2, \"Factor_A\", \"Data\", total_mean)\n",
        "ss_B = calc_ss(df2, \"Factor_B\", \"Data\", total_mean)\n",
        "ss_C = calc_ss(df2, \"Factor_C\", \"Data\", total_mean)\n",
        "ss_D = calc_ss(df2, \"Factor_D\", \"Data\", total_mean)\n",
        "\n",
        "# Suma de los cuadrados de los residuos\n",
        "ss_AxB = calc_ss(df2, \"AxB\", \"Data\", total_mean)\n",
        "ss_AxC = calc_ss(df2, \"AxC\", \"Data\", total_mean)\n",
        "\n",
        "# Suma de los cuadrados de los residuos (Residual Sum of Squares)\n",
        "ss_residual = total_ss - (ss_A + ss_B + ss_C + ss_D + ss_AxB + ss_AxC)\n",
        "\n",
        "print(f\"Suma total de los cuadrados: {total_ss}\")\n",
        "\n",
        "print(\"Suma de los cuadrados del fator A:\", ss_A)\n",
        "print(\"Suma de los cuadrados del fator B:\", ss_B)\n",
        "print(\"Suma de los cuadrados del fator C:\", ss_C)\n",
        "print(\"Suma de los cuadrados del fator D:\", ss_D)\n",
        "\n",
        "print(\"Suma de los cuadrados de AxB:\", ss_AxB)\n",
        "print(\"Suma de los duadrados de AxC:\", ss_AxC)\n",
        "\n",
        "print(\"Suma de los cuadrados del erro (Residual SS):\", ss_residual)\n"
      ],
      "metadata": {
        "id": "Cu5yMUgTdW6K"
      },
      "execution_count": null,
      "outputs": []
    },
    {
      "cell_type": "markdown",
      "source": [
        "### Creación de la tabla de análisis de varianza (tabla ANOVA)"
      ],
      "metadata": {
        "id": "5Qu6Xb43M2V6"
      }
    },
    {
      "cell_type": "code",
      "source": [
        "# Grados de libertad (df) de cada término\n",
        "df_A   = 2 - 1\n",
        "df_B   = 2 - 1\n",
        "df_C   = 2 - 1\n",
        "df_D   = 2 - 1\n",
        "df_AxB = 2 - 1\n",
        "df_AxC = 2 - 1\n",
        "\n",
        "# Los grados de libertad de los residuos se calculan restando la suma de\n",
        "# los niveles de cada efecto del total de datos\n",
        "n_total = df2.height\n",
        "df_total = n_total - 1\n",
        "df_model = df_A + df_B + df_C + df_D + df_AxB + df_AxC\n",
        "df_residual = df_total - df_model\n",
        "\n",
        "# Cálculo del cuadrado medio (Mean Square: MS)\n",
        "ms_A   = ss_A   / df_A\n",
        "ms_B   = ss_B   / df_B\n",
        "ms_C   = ss_C   / df_C\n",
        "ms_D   = ss_D   / df_D\n",
        "ms_AxB = ss_AxB / df_AxB\n",
        "ms_AxC = ss_AxC / df_AxC\n",
        "ms_residual = ss_residual / df_residual\n",
        "\n",
        "# Cálculo del valor F (dividiendo el MS de cada efecto por el MS de los residuos)\n",
        "F_A   = ms_A   / ms_residual\n",
        "F_B   = ms_B   / ms_residual\n",
        "F_C   = ms_C   / ms_residual\n",
        "F_D   = ms_D   / ms_residual\n",
        "F_AxB = ms_AxB / ms_residual\n",
        "F_AxC = ms_AxC / ms_residual\n",
        "\n",
        "# Tabla ANOVA\n",
        "anova_table = pl.DataFrame({\n",
        "    \"Source\": [\"Factor_A\", \"Factor_B\", \"Factor_C\", \"Factor_D\", \"AxB\", \"AxC\", \"Residual\", \"Total\"],\n",
        "    \"SS\":      [ss_A, ss_B, ss_C, ss_D, ss_AxB, ss_AxC, ss_residual, total_ss],\n",
        "    \"df\":      [df_A, df_B, df_C, df_D, df_AxB, df_AxC, df_residual, df_total],\n",
        "    \"MS\":      [ms_A, ms_B, ms_C, ms_D, ms_AxB, ms_AxC, ms_residual, None],\n",
        "    \"F\":       [F_A, F_B, F_C, F_D, F_AxB, F_AxC, None, None]\n",
        "})\n",
        "\n",
        "print(anova_table)"
      ],
      "metadata": {
        "id": "56UqanOEfX7B"
      },
      "execution_count": null,
      "outputs": []
    },
    {
      "cell_type": "markdown",
      "source": [
        "2. 分散分析の結果、主効果Cおよび交互作用AxCは、有意ではなく、分散比も小さいので、これらを誤差にプールした分散分析表を作成せよ。\n",
        "\n",
        "\n",
        "2. Como resultado del análisis de varianza, los efectos principales C y la interacción AxC no son significativos, y como la relación de varianza es pequeña, se debe crear una tabla de análisis de varianza donde se agrupan en el error."
      ],
      "metadata": {
        "id": "mnGaJdlrFRPn"
      }
    },
    {
      "cell_type": "code",
      "source": [
        "# --- Tratamiento de agrupamiento ---\n",
        "# Agrupa los efectos del factor C y AxC en el error\n",
        "ss_residual_pool = ss_residual + ss_C + ss_AxC\n",
        "df_residual_pool = df_residual + df_C + df_AxC\n",
        "\n",
        "# --- Cálculo del cuadrado medio (MS) de los residuos ---\n",
        "ms_residual_pool = ss_residual_pool / df_residual_pool\n",
        "\n",
        "# --- Cálculo del valor F ---\n",
        "F_A   = np.round(ms_A   / ms_residual_pool,2)\n",
        "F_B   = np.round(ms_B   / ms_residual_pool,2)\n",
        "F_D   = np.round(ms_D   / ms_residual_pool,2)\n",
        "F_AxB = np.round(ms_AxB / ms_residual_pool,2)\n",
        "\n",
        "# --- Creación de la tabla de análisis de varianza (ANOVA table)  ---\n",
        "anova_table = pl.DataFrame({\n",
        "    \"Source\": [\"Factor_A\", \"Factor_B\", \"Factor_D\", \"AxB\", \"Residual (Pooled)\", \"Total\"],\n",
        "    \"SS\":      [ss_A, ss_B, ss_D, ss_AxB, ss_residual_pool, total_ss],\n",
        "    \"df\":      [df_A, df_B, df_D, df_AxB, df_residual_pool, df_total],\n",
        "    \"MS\":      [ms_A, ms_B, ms_D, ms_AxB, ms_residual_pool, None],\n",
        "    \"F\":       [F_A, F_B, F_D, F_AxB, None, None]\n",
        "})\n",
        "\n",
        "print(anova_table)"
      ],
      "metadata": {
        "id": "qu_tYAWjnbSH"
      },
      "execution_count": null,
      "outputs": []
    },
    {
      "cell_type": "markdown",
      "source": [
        "3. 分散分析の結果、データの構造式は：\n",
        "\n",
        "\n",
        "3. Como resultado del análisis de varianza, la fómula estructural de los deatos es:\n",
        "\n",
        "* $ x = \\mu + a + b + d + (ab) + \\epsilon $\n",
        "\n",
        "\n"
      ],
      "metadata": {
        "id": "NNuF7cFNRLxf"
      }
    },
    {
      "cell_type": "markdown",
      "source": [
        "4. データの総和を $ T $、因子 $ X $ の $ i $ 水準でのデータの和を $ T(X_i) $、因子 $ X $, $ Y $ の $ i $ 水準、 $ j $ 水準の組み合わせでのデータの和を $ T(X_iY_j) $ と表記した時、因子 $ A,B,D $ の水準組み合わせの母平均 $ \\hat{\\mu}(A_i B_j D_k) $ を推定する。\n",
        "\n",
        "\n",
        "4. Cuando la suma total de los datos se denota por  $ T $, la suma de los datos en el nivel $ i $ del factor  $ X $ se denota por $ T(X_i) $, y la suma de los datos en la combinación de los niveles  $ i $ del factor $ X $ y  $ j $ del factor  $ Y $ se denota por $ T(X_iY_j) $, se estima la media poblacional $ \\hat{\\mu}(A_i B_j D_k) $ para la combinación de niveles de los factores $ A,B,D $.\n",
        "\n",
        "\n",
        "* $ \\hat{\\mu}(A_i B_j D_k)  = \\frac{T(A_iB_j)}{2} + \\frac{T(D_k)}{4} - \\frac{T}{8} $"
      ],
      "metadata": {
        "id": "X-HIxNvLSBnV"
      }
    },
    {
      "cell_type": "code",
      "source": [
        "# Calculra la suma de los elementos\n",
        "T_AiBj = ss_A + ss_AxB  # Suma total de los cuadrados de AiBj\n",
        "T_Dk = ss_D  # Suma de los cuadrados de Dk\n",
        "\n",
        "# Cálculo la media poblacional\n",
        "mu_AiBjDk = (T_AiBj / 2) + (T_Dk / 4) - (total_ss / 8)\n",
        "\n",
        "# Mostrar el resultado\n",
        "print(f\"Media poblacional μ(AiBjDk) = {mu_AiBjDk}\")"
      ],
      "metadata": {
        "id": "BX03l_BdzIQu"
      },
      "execution_count": null,
      "outputs": []
    },
    {
      "cell_type": "markdown",
      "source": [
        "5. 回帰モデル型分散分析により分散分析表を作成する\n",
        "\n",
        "\n",
        "5. Crear una tabla de análisis de varianza mediante análisis de varianza de modelo de regresión"
      ],
      "metadata": {
        "id": "P_fQmxPI3_oO"
      }
    },
    {
      "cell_type": "code",
      "source": [
        "df3 = df2.drop(['AxB','AxC','Residual'])\n",
        "print(df3)"
      ],
      "metadata": {
        "id": "I2LR40zVAPsT"
      },
      "execution_count": null,
      "outputs": []
    },
    {
      "cell_type": "code",
      "source": [
        "import statsmodels.api as sm\n",
        "import statsmodels.formula.api as smf\n",
        "\n",
        "df = df3.to_pandas()\n",
        "\n",
        "def convertir_a_categoricas(data, columnas):\n",
        "    for columna in columnas:\n",
        "        data[columna] = data[columna].astype('category')\n",
        "    return data\n",
        "\n",
        "columnas_a_convertir = ['Factor_A', 'Factor_B', 'Factor_C', 'Factor_D']\n",
        "df = convertir_a_categoricas(df, columnas_a_convertir)\n",
        "\n",
        "# Definir el modelo de análisis de varianza incluyendo las interacciones AxB y AxC\n",
        "model = smf.ols('Data ~ Factor_A * Factor_B + Factor_A * Factor_C + Factor_D', data=df).fit()\n",
        "\n",
        "# Crear la tabla de análisis de varianza\n",
        "anova_table = sm.stats.anova_lm(model, typ=2)\n",
        "print(anova_table)\n"
      ],
      "metadata": {
        "id": "Ru8yoI4ZmJpB"
      },
      "execution_count": null,
      "outputs": []
    },
    {
      "cell_type": "code",
      "source": [
        "# Agrupar los factores no significativos\n",
        "# (integrar en el error aquellos con una razón de varianza pequeña)\n",
        "insignificant_factors = anova_table[anova_table['PR(>F)'] > 0.25].index.tolist()\n",
        "formula_reduced = 'Data ~ ' + ' + '.join([factor for factor in ['Factor_A', 'Factor_B', 'Factor_C', 'Factor_D', 'Factor_A:Factor_B', 'Factor_A:Factor_C'] if factor not in insignificant_factors])\n",
        "\n",
        "# Realizar nuevamente el análisis de varianza con un modelo simplificado\n",
        "model_reduced = smf.ols(formula_reduced, data=df).fit()\n",
        "anova_table_reduced = sm.stats.anova_lm(model_reduced, typ=2)\n",
        "print(\"Reduced ANOVA Table:\")\n",
        "print(anova_table_reduced)\n"
      ],
      "metadata": {
        "id": "fg-T4UOYy4qT"
      },
      "execution_count": null,
      "outputs": []
    },
    {
      "cell_type": "markdown",
      "source": [
        "## 12.3\n",
        "\n",
        "因子A（３水準）因子B（２水準）を表12.3のL8直交配列表に割り付け、No1～No8の実験をランダムな順序で行った。表12.3の実験結果を得た。\n",
        "\n",
        "なお、列 a, bの水準と因子Aの水準設定は、表12.4のように行った。\n",
        "\n",
        "下記を求めよ。\n",
        "1. 因子Aの平方和と自由度\n",
        "2. 因子Bの平方和と自由度\n",
        "3. 交互作用AxBの平方和と自由度\n",
        "4. 誤差の平方和と自由度\n",
        "\n",
        "\n",
        "Se asignaron el factor A (con 3 niveles) y el factor B (con 2 niveles) a la matriz ortogonal L8 de la Tabla 12.3 y los experimentos No1 a No8 se realizaron en un orden aleatorio. Se obtuvieron los resultados experimentales de la Tabla 12.3.\n",
        "\n",
        "Cabe destacar que los niveles de las columnas a y b y la configuración de los niveles del factor A se establecieron según la Tabla 12.4.\n",
        "\n",
        "Determinar lo siguiente:\n",
        "1. La suma de cuadrados y los grados de libertade del factor A.\n",
        "2. La suma de cuadrados y los grados de libertad del factor B.\n",
        "3. La sumade cuadrados y los grados de libertad de la interacción AxB.\n",
        "4. La suma de cuadrados y los grados de libertad del residuo."
      ],
      "metadata": {
        "id": "dKOmTMH-AlXv"
      }
    },
    {
      "cell_type": "code",
      "source": [
        "# Obtener los datos (como lista)\n",
        "st = ss.worksheet(\"Sheet8\")\n",
        "list_of_lists = st.get_all_values()\n",
        "\n",
        "df = pd.DataFrame.from_records(list_of_lists)\n",
        "df.columns = df.iloc[0]\n",
        "df = df.drop(index=0)\n",
        "df = df.apply(pd.to_numeric)\n",
        "\n",
        "print(\"Tabla 12.3 Matriz ortogonal L8 y Resultados experimentales\")\n",
        "df"
      ],
      "metadata": {
        "id": "NiuVDqxvm2f3"
      },
      "execution_count": null,
      "outputs": []
    },
    {
      "cell_type": "code",
      "source": [
        "# Configuración del Factor A y B\n",
        "\n",
        "df = df.rename(columns={'c': 'Factor_B'})\n",
        "\n",
        "def assign_factor_a(row):\n",
        "    if row['a'] == 1 and row['b'] in [1, 2]:\n",
        "        return 1\n",
        "    elif row['a'] == 2 and row['b'] == 1:\n",
        "        return 2\n",
        "    elif row['a'] == 2 and row['b'] == 2:\n",
        "        return 3\n",
        "\n",
        "df['Factor_A'] = df.apply(assign_factor_a, axis=1)\n",
        "\n",
        "print(\"Tabla 12.4 Configuración de los niveles del factor A\")\n",
        "df[['a','b','Factor_A','Factor_B']]"
      ],
      "metadata": {
        "id": "Cjh35os1231W"
      },
      "execution_count": null,
      "outputs": []
    },
    {
      "cell_type": "code",
      "source": [
        "import statsmodels.api as sm\n",
        "from statsmodels.formula.api import ols\n",
        "\n",
        "# Creación de datos\n",
        "data_dict = df.to_dict(orient=\"list\")\n",
        "\n",
        "# Conversión a un DataFrame\n",
        "data = pd.DataFrame(data_dict)\n",
        "\n",
        "# Conversión de los factores A y B en variables cotegóricas\n",
        "columnas_a_convertir = ['Factor_A', 'Factor_B']\n",
        "data = convertir_a_categoricas(data, columnas_a_convertir)\n",
        "\n",
        "# Definición del modelo de análisis de varianza\n",
        "model = ols('x ~ Factor_A + Factor_B + Factor_A:Factor_B', data=data).fit()\n",
        "\n",
        "# Tabla de análisis de varianza (ANOVA)\n",
        "anova_table = sm.stats.anova_lm(model, typ=2)\n",
        "\n",
        "# Visualización de resultados\n",
        "print(\"Tabla de análisis de varianza (AVOVA):\")\n",
        "print(anova_table)\n",
        "\n",
        "# Obtención de las suma de cuadrados\n",
        "ssq_A = anova_table['sum_sq']['Factor_A']\n",
        "ssq_B = anova_table['sum_sq']['Factor_B']\n",
        "ssq_AB = anova_table['sum_sq']['Factor_A:Factor_B']\n",
        "error = anova_table['sum_sq']['Residual']\n",
        "\n",
        "# Obtención de los grados de libertad\n",
        "df_A = anova_table['df']['Factor_A']\n",
        "df_B = anova_table['df']['Factor_B']\n",
        "df_AB = anova_table['df']['Factor_A:Factor_B']\n",
        "df_error = anova_table['df']['Residual']\n",
        "\n",
        "\n",
        "print(f\"\\nSuma de cuadrados del factor A: {ssq_A:.0f}  Grados de cuadrados del factor A： {df_A}\")\n",
        "print(f\"Suma de cuadrados del factor A: {ssq_B:.0f}     Grados de cuadrados del factor B:  {df_B}\")\n",
        "print(f\"Suma de cuadrados de la interacción AxB: {ssq_AB:.0f}   Grados de libertad de la interacción AxB:  {df_AB}\")\n",
        "print( f\"Suma de cuadrados del residuo: {error:.0f}   Grados de libertad del residuo:  {df_error}\")\n"
      ],
      "metadata": {
        "id": "Bk1QWah4LCSL"
      },
      "execution_count": null,
      "outputs": []
    },
    {
      "cell_type": "markdown",
      "source": [
        "## 12.6\n",
        "\n",
        "因子A（３水準）を一次因子、因子B（２水準）、因子C（３水準）とした反復（R）２回の２段分割実験を行い、表１２．７のデータを得た。\n",
        "1. 交互作用AxCの平方和 $ S_{A \\times C} $\n",
        "2. 一次誤差の平方和、自由度\n",
        "3. ２次誤差の平方和、自由度\n",
        "4. ３次誤差の平方和、自由度\n",
        "\n",
        "を求めよ。\n",
        "\n",
        "Se realizó un experimento de división en dos etapas con dos repeticiones (R), donde el factor A (3 niveles) se consideró como el factor primero, y los factor  B (2 niveles) y C (3 niveles) se incluyeron en la estructura experimental. Como resultado, se obtuvieron los datos de la Tabla 12.7.\n",
        "\n",
        "Calcule los siguientes valores:\n",
        "1. La suma de cuadrados de la interacción $ S_{A \\times C} $\n",
        "2. La suma de cuadrados y los grados de libertad del erro de primer nivel.\n",
        "3. La suma de cuadrados y los grados de libertad del error de segundo nivel.\n",
        "4. La suma de cuadrados y los grados de libertad de error de tercer nivel."
      ],
      "metadata": {
        "id": "NBgFgKQxmzG8"
      }
    },
    {
      "cell_type": "code",
      "source": [
        "# Obtener los datos (como lista)\n",
        "st = ss.worksheet(\"Sheet9\")\n",
        "list_of_lists = st.get_all_values()\n",
        "\n",
        "df = pd.DataFrame.from_records(list_of_lists)\n",
        "df.columns = df.iloc[0]\n",
        "df = df.drop(index=0)\n",
        "df = df.apply(pd.to_numeric)\n",
        "\n",
        "# Crear una tabla dinámica\n",
        "df_pivot = df.pivot(index=['R', 'A', 'B'], columns='C', values='y')\n",
        "# Modificar los nombres de las columnas según corresponda\n",
        "df_pivot.columns = [f'C{col}' for col in df_pivot.columns]\n",
        "\n",
        "print(\"Tabla 12.7 Resultados experimentales\")\n",
        "print(df_pivot.reset_index())"
      ],
      "metadata": {
        "id": "2MBaprmTt5dH"
      },
      "execution_count": null,
      "outputs": []
    },
    {
      "cell_type": "code",
      "source": [
        "# Restaurar la tabla dinámica a su form aoriginal\n",
        "df_unpivot = df_pivot.reset_index().melt(id_vars=['R', 'A', 'B'], var_name='C', value_name='y')\n",
        "df_unpivot['C'] = df_unpivot['C'].str.extract(r'C(\\d+)').astype(int)"
      ],
      "metadata": {
        "id": "6KF2g1GU5ovb"
      },
      "execution_count": null,
      "outputs": []
    },
    {
      "cell_type": "code",
      "source": [
        "import statsmodels.api as sm\n",
        "from statsmodels.formula.api import ols\n",
        "\n",
        "# Creación de datos\n",
        "data_dict = df.to_dict(orient=\"list\")\n",
        "\n",
        "# Conversión a un DataFrame\n",
        "data = pd.DataFrame(data_dict)\n",
        "\n",
        "# Conversión de los factores A y B en variables cotegóricas\n",
        "def convertir_a_categoricos(data, columns):\n",
        "  for col in columns:\n",
        "    data[col] = data[col].astype('category')\n",
        "  return data\n",
        "\n",
        "columnas_a_convertir = ['A', 'B', 'C', 'R']\n",
        "data = convertir_a_categoricos(data, columnas_a_convertir)\n",
        "\n",
        "\n",
        "# Definición del modelo de análisis de varianza\n",
        "model = ols('y ~ R + A + R:A + B + A:B + R:B + C + A:C + B:C + R:C + A:B:C + R:A:C + R:B:C + R:A:B ', data=data).fit()\n",
        "\n",
        "# Tabla de análisis de varianza (ANOVA)\n",
        "anova_table = sm.stats.anova_lm(model, typ=2)\n",
        "\n",
        "# Visualización de resultados\n",
        "print(\"Tabla de análisis de varianza (AVOVA):\")\n",
        "print(anova_table)"
      ],
      "metadata": {
        "id": "18z50GC8t5hh"
      },
      "execution_count": null,
      "outputs": []
    },
    {
      "cell_type": "markdown",
      "source": [
        "反復R、因子A、B、Cの効果を $ r, a, b, c $、一次誤差、２次誤差、３次誤差を $ \\epsilon (1), \\epsilon(2), \\epsilon(3) $ とした場合、実験をあらわすデータの構造式：\n",
        "\n",
        "Si denotamos la repetición como $ R $, los factores como $ A, B, C $, y los errores como $ \\epsilon (1), \\epsilon(2), \\epsilon(3) $, entonces la estructura del modelo experimental se expresa como:\n",
        "\n",
        "$ x_{ijkl} = \\mu + r_l + a_i + \\epsilon(1)_{il} + b_j + (ab)_{ij} + \\epsilon(2)_{ijl} + c_k + (ac)_{ik} + (bc)_{jk} + (abc)_{ijk} + \\epsilon(3)_{ijkl} $\n",
        "\n"
      ],
      "metadata": {
        "id": "Rr-ZN5_ur8fx"
      }
    },
    {
      "cell_type": "code",
      "source": [
        "# Error de primer nivel\n",
        "ss1 = anova_table.loc['R:A', 'sum_sq']\n",
        "df1 = anova_table.loc['R:A', 'df']\n",
        "\n",
        "# Error de segundo nivel\n",
        "ss2 = (anova_table.loc['R:A:B', 'sum_sq'] +\n",
        "       anova_table.loc['R:B', 'sum_sq'])\n",
        "df2 =   (anova_table.loc['R:A:B', 'df'] +\n",
        "       anova_table.loc['R:B', 'df'])\n",
        "\n",
        "# Error de tercer nivel\n",
        "ss3 = (anova_table.loc['R:C', 'sum_sq'] +\n",
        "      anova_table.loc['R:A:C', 'sum_sq'] +\n",
        "      anova_table.loc['R:B:C', 'sum_sq'] +\n",
        "      anova_table.loc['Residual', 'sum_sq'])\n",
        "df3 = (anova_table.loc['R:C', 'df'] +\n",
        "      anova_table.loc['R:A:C', 'df'] +\n",
        "      anova_table.loc['R:B:C', 'df'] +\n",
        "      anova_table.loc['Residual', 'df'])\n",
        "\n",
        "print(f'Error de primer nivel (A×R): {ss1:.0f}', df1)\n",
        "print(f'Error de segundo nivel (B×R+AxBxR): {ss2:.0f}', df2)\n",
        "print(f'Error de tercer nivel (CxR+AxCxR+BxCxR+AxBxCxR): {ss3:.0f}', df3)\n"
      ],
      "metadata": {
        "id": "M0UH6pCFt5k1"
      },
      "execution_count": null,
      "outputs": []
    },
    {
      "cell_type": "markdown",
      "source": [
        "## 12.7\n",
        "\n",
        "原料を一次処理して、一次中間体Pを製造し、Pを２次処理して２次中間体Qを製造し、Qを３次処理して製品を製造する工程がある。一次処理には因子Aが、２次処理には因子B、Cが、３次処理には因子D、Fが影響を及ぼすと考えられる。この度、これらの因子の製品の特性への影響をけんとうするため、以下の実験を行った。\n",
        "\n",
        "因子Aを一次因子、因子B,Cを２次因子、因子D,Fを３次因子として、表１２．８のようにL18直交配列表に割り付けた。一次誤差を一次因子と交絡させないための実験を行う手順を決める。\n",
        "\n",
        "Si tiene un proceso en el que la materia a un tratamiento primario para producir un intermedio primario P, luego P se somete a un tratamiento secundario para obtener un intermedio secundario Q, y finalmente Q se somete a un tratamiento terciario para fabricar el producto final. Se considera que el tratamiento primario está influenciado por el factor A, el tratamiento secundario por los factores B y C, y el tratamiento terciario por los factores D y F. Con el fin de evaluar la influencia de estos factores en las características del producto, se llevó a cabo el siguiente experimento.\n",
        "\n",
        "Se asignaron el factor A como factor de primer nivel, los factores B y C como factores de segundo nivel, y los factores D y F como factores de tercer nivel en la tabla ortogonal L18, como se muestra en la Tabla 12.8. Se determinará el procedimiento experimental para evitar que el error de primer nivel se confunda con el factor de primer nivel.\n",
        "\n",
        "\n"
      ],
      "metadata": {
        "id": "tNIiSwyvKi50"
      }
    },
    {
      "cell_type": "markdown",
      "source": [
        "## 実験の順番\n",
        "\n",
        "1. 一次誤差を一次因子Aと交絡させないためには、一次因子Aの水準が均等に分布するように実験グループを選ぶ必要がある。\n",
        "2. 因子B、Cの水準が均等に分配されるように設計する必要がある。\n",
        "3. ３次因子D,Fの水準の均等性を考量する。\n",
        "\n",
        "\n",
        "最終的な実験順番\n",
        "1. 一次処理（Pの製造）：(1,2)(3,4)(5,6)(7,8)(9,10)(11,12)(13,14)(15,16)\n",
        "2. 二次処理（Qの製造）：(3,4)(5,6)(7,8)(9,10)\n",
        "3.３次処理（製品の製造）：(11,12)(13,14)(15,16)\n",
        "\n",
        "\n",
        "## Orden de los experimentos\n",
        "\n",
        "1. Para evitar que el error de primer orden se confunda con el factor A, es necesario elegir grupos experimentales de manera que los niveles del factor A se distribuyan uniformemente.\n",
        "2. Es necesario diseñar el experimento de manera de los niveles de los factores B y C se distribuyan de manera uniforme.\n",
        "3. Se debe considerar la igualidad de los niveles de los factores de tercer orden D y F.\n",
        "\n",
        "Orden final de los experimentos:\n",
        "1. Primer tratamiento (fabricación de P): (1,2)(3,4)(5,6)(7,8)(9,10)(11,12)(13,14)(15,16)\n",
        "2. Segundo tratamiento (fabricación de P): (3,4)(5,6)(7,8)(9,10)\n",
        "3. Tercer tratamiento (fabricación del producto): (11,12)(13,14)(15,16)\n",
        "\n"
      ],
      "metadata": {
        "id": "STRtodTx0D_G"
      }
    },
    {
      "cell_type": "code",
      "source": [
        "import itertools\n",
        "import random\n",
        "\n",
        "# Obtener los datos (como lista)\n",
        "st = ss.worksheet(\"Sheet14\")\n",
        "list_of_lists = st.get_all_values()\n",
        "\n",
        "df = pd.DataFrame.from_records(list_of_lists)\n",
        "df.columns = df.iloc[0]\n",
        "df = df.drop(index=0)\n",
        "df = df.apply(pd.to_numeric)\n",
        "\n",
        "def assign_factors_and_execute_experiment(df):\n",
        "    # Assign factors based on the given conditions\n",
        "    df['A'] = df['1']  # Primary process factor\n",
        "    df['BxC'] = df['3']\n",
        "    df['B'] = df['4']  # Secondary process factor\n",
        "    df['DxF'] = df['6']  # Secondary process factor\n",
        "    df['C'] = df['7']  # Secondary process factor\n",
        "    df['D'] = df['10']  # Tertiary process factor\n",
        "    df['CxF'] = df['11']  # Tertiary process factor\n",
        "    df['F'] = df['12']  # Tertiary process factor\n",
        "\n",
        "    # Output allocation table\n",
        "    allocation_table = df[['A','BxC', 'B', 'DxF', 'C', 'D', 'CxF','F']]\n",
        "    print(\"Tabla12.8 Factor Allocation Table:\")\n",
        "    print(allocation_table)\n",
        "\n",
        "    return allocation_table\n",
        "\n",
        "# Assign factors and execute experiment\n",
        "allocation_table = assign_factors_and_execute_experiment(df)\n",
        "allocation_table = allocation_table.reset_index()\n",
        "\n",
        "allocacion_list = allocation_table.to_dict(orient=\"list\")"
      ],
      "metadata": {
        "id": "rBe6PDYRQDx7"
      },
      "execution_count": null,
      "outputs": []
    },
    {
      "cell_type": "code",
      "source": [
        "# Condiciones del experimento\n",
        "np.random.seed(5)  #\n",
        "mu = 50  # Media total\n",
        "sigma_A = np.sqrt(10)  # Desviación estándar del factor A\n",
        "sigma_B = np.sqrt(3)  # Desviación estándar del factor B\n",
        "sigma_C = np.sqrt(4)  # Desviación estándar del factor C\n",
        "sigma_D = np.sqrt(5)  # Desviación estándar del factor D\n",
        "sigma_F = np.sqrt(6)  # Desviación estándar del factor F\n",
        "sigma_error = np.sqrt(1)  # Desviación estándar del error\n",
        "sigma_DF = np.sqrt(5)  # Desviación estándar de la interacción entre D y F\n",
        "sigma_BC = np.sqrt(1)  # Desviación estándar de la interacción entre B y C\n",
        "sigma_CF = np.sqrt(2)  # Desviación estándar de la interacción entre C y F\n",
        "\n",
        "# Efecto del nivel de los factores\n",
        "A_levels = {1: np.random.normal(0, sigma_A), 2: np.random.normal(0, sigma_A)}\n",
        "B_levels = {1: np.random.normal(0, sigma_B), 2: np.random.normal(0, sigma_B)}\n",
        "C_levels = {1: np.random.normal(0, sigma_C), 2: np.random.normal(0, sigma_C)}\n",
        "D_levels = {1: np.random.normal(0, sigma_D), 2: np.random.normal(0, sigma_D)}\n",
        "F_levels = {1: np.random.normal(0, sigma_F), 2: np.random.normal(0, sigma_F)}\n",
        "\n",
        "# Interacción\n",
        "DF_interaction = {(d, f): np.random.normal(0, sigma_DF) for d in [1, 2] for f in [1, 2]}\n",
        "BC_interaction = {(b, c): np.random.normal(0, sigma_BC) for b in [1, 2] for c in [1, 2]}\n",
        "CF_interaction = {(c, f): np.random.normal(0, sigma_CF) for c in [1, 2] for f in [1, 2]}\n",
        "\n",
        "# Tabla de arreglo experimental\n",
        "df = pd.DataFrame(allocacion_list)\n",
        "\n",
        "# Cálculo de x\n",
        "x_values = [\n",
        "    mu + A_levels[a] + B_levels[b] + C_levels[c] + D_levels[d] +F_levels[f] + BC_interaction[(b,c)] + DF_interaction[(d,f)] + CF_interaction[(c,f)] + np.random.normal(0, sigma_error)\n",
        "    for a, b, c, d, f, in zip(df['A'], df['B'], df['C'], df['D'], df['F'])\n",
        "]\n",
        "df['x'] = np.round(x_values,1)\n"
      ],
      "metadata": {
        "id": "A7ChTULQnb0j"
      },
      "execution_count": null,
      "outputs": []
    },
    {
      "cell_type": "code",
      "source": [
        "import statsmodels.api as sm\n",
        "from statsmodels.formula.api import ols\n",
        "from scipy import stats\n",
        "\n",
        "# Creación de grupos para el análisis de varianza (ANOVA)\n",
        "grouped_A = df.groupby('A')['x'].apply(list)\n",
        "grouped_B = df.groupby('B')['x'].apply(list)\n",
        "grouped_C = df.groupby('C')['x'].apply(list)\n",
        "grouped_D = df.groupby('D')['x'].apply(list)\n",
        "grouped_F = df.groupby('F')['x'].apply(list)\n",
        "grouped_DxF = df.groupby('DxF')['x'].apply(list)\n",
        "grouped_CxF = df.groupby('CxF')['x'].apply(list)\n",
        "\n",
        "# Ejecución del ANOVA por cada factor\n",
        "f_value_A, p_value_A = stats.f_oneway(*grouped_A)\n",
        "f_value_B, p_value_B = stats.f_oneway(*grouped_B)\n",
        "f_value_C, p_value_C = stats.f_oneway(*grouped_C)\n",
        "f_value_D, p_value_D = stats.f_oneway(*grouped_D)\n",
        "f_value_F, p_value_F = stats.f_oneway(*grouped_F)\n",
        "f_value_DxF, p_value_DxF = stats.f_oneway(*grouped_DxF)\n",
        "f_value_CxF, p_value_CxF = stats.f_oneway(*grouped_CxF)\n",
        "\n",
        "# Cálculo de la suma de cuadrados y los grados de libertad de todos los factores\n",
        "# Suma total de cudrados\n",
        "df_A = len(grouped_A) - 1\n",
        "df_B = len(grouped_B) - 1\n",
        "df_C = len(grouped_C) - 1\n",
        "df_D = len(grouped_D) - 1\n",
        "df_F = len(grouped_F) - 1\n",
        "df_DxF = len(grouped_DxF) - 1\n",
        "df_CxF = len(grouped_CxF) - 1\n",
        "\n",
        "# Suma total de cuadrados de los residuos（Total Sum of Squares）\n",
        "total_ss = np.sum((df['x'] - np.mean(df['x']))**2)\n",
        "\n",
        "# Suma de cuadrados por cada factor\n",
        "ss_A = np.sum([len(group) * (np.mean(group) - np.mean(df['x']))**2 for group in grouped_A])\n",
        "ss_B = np.sum([len(group) * (np.mean(group) - np.mean(df['x']))**2 for group in grouped_B])\n",
        "ss_C = np.sum([len(group) * (np.mean(group) - np.mean(df['x']))**2 for group in grouped_C])\n",
        "ss_D = np.sum([len(group) * (np.mean(group) - np.mean(df['x']))**2 for group in grouped_D])\n",
        "ss_F = np.sum([len(group) * (np.mean(group) - np.mean(df['x']))**2 for group in grouped_F])\n",
        "ss_DxF = np.sum([len(group) * (np.mean(group) - np.mean(df['x']))**2 for group in grouped_DxF])\n",
        "ss_CxF = np.sum([len(group) * (np.mean(group) - np.mean(df['x']))**2 for group in grouped_CxF])\n",
        "\n",
        "# Suma de cuadrados de los residuos\n",
        "ss_residual = total_ss - (ss_A + ss_B + ss_C + ss_D + ss_F + ss_DxF + ss_CxF)\n",
        "\n",
        "# Cálculo del error de primer orden (error dentro del factor A)\n",
        "ss_A_error = ss_residual / df_A  # Error dentro del factor A\n",
        "\n",
        "# Grado de libertad\n",
        "df_residual = len(df['x']) - (df_A + df_B + df_C + df_D + df_DxF + df_CxF)\n",
        "\n",
        "# Media de cuadrados（MS）de cada factor\n",
        "ms_A = ss_A / df_A\n",
        "ms_B = ss_B / df_B\n",
        "ms_C = ss_C / df_C\n",
        "ms_D = ss_D / df_D\n",
        "ms_F = ss_F / df_F\n",
        "ms_DxF = ss_DxF / df_DxF\n",
        "ms_CxF = ss_CxF / df_CxF\n",
        "ms_residual = ss_residual / df_residual\n",
        "ms_A_error = ss_A_error / df_A\n",
        "\n",
        "# Valor de F\n",
        "f_A = ms_A / ms_residual\n",
        "f_B = ms_B / ms_residual\n",
        "f_C = ms_C / ms_residual\n",
        "f_D = ms_D / ms_residual\n",
        "f_F = ms_F / ms_residual\n",
        "f_DxF = ms_DxF / ms_residual\n",
        "f_CxF = ms_CxF / ms_residual\n",
        "\n",
        "# Tabla de análisis de varianza (ANOVA)\n",
        "anova_table = pd.DataFrame({\n",
        "    'Source': ['A', 'B', 'C', 'D', 'F', 'DxF', 'CxF', 'Residual', 'A Error'],\n",
        "    'SS': [ss_A, ss_B, ss_C, ss_D, ss_F, ss_DxF, ss_CxF, ss_residual, ss_A_error],\n",
        "    'df': [df_A, df_B, df_C, df_D, df_F, df_DxF, df_CxF, df_residual, df_A],\n",
        "    'MS': [ms_A, ms_B, ms_C, ms_D, ms_F, ms_DxF, ms_CxF, ms_residual, ms_A_error],\n",
        "    'F': [f_A, f_B, f_C, f_D, f_F, f_DxF, f_CxF, np.nan, np.nan],\n",
        "    'p-value': [p_value_A, p_value_B, p_value_C, p_value_D, p_value_F, p_value_DxF, p_value_CxF, np.nan, np.nan]\n",
        "})\n",
        "\n",
        "#\n",
        "print(anova_table)\n"
      ],
      "metadata": {
        "id": "UtAGakibQ4OC"
      },
      "execution_count": null,
      "outputs": []
    },
    {
      "cell_type": "code",
      "source": [
        "# Conversión a un DataFrame\n",
        "data = df.copy()\n",
        "\n",
        "# Conversión de los factores A y B en variables cotegóricas\n",
        "data['A'] = data['A'].astype('category')\n",
        "data['B'] = data['B'].astype('category')\n",
        "data['C'] = data['C'].astype('category')\n",
        "data['D'] = data['D'].astype('category')\n",
        "data['F'] = data['F'].astype('category')\n",
        "\n",
        "# Definición del modelo de análisis de varianza\n",
        "model = ols('x ~ A +B + DxF + C + D  + CxF + F', data=data).fit()\n",
        "\n",
        "# Tabla de análisis de varianza (ANOVA)\n",
        "anova_table = sm.stats.anova_lm(model, typ=2)\n",
        "anova_table"
      ],
      "metadata": {
        "id": "cn9ixPwPnb4v"
      },
      "execution_count": null,
      "outputs": []
    },
    {
      "cell_type": "markdown",
      "source": [
        "## 12.8\n",
        "\n",
        "因子A（２水準）を一次因子、因子B（３水準）を２次因子とした分割実験を反復R（２回）実施して、表12.9のデータを得た。\n",
        "\n",
        "1. 因子Aの分散比\n",
        "2. 一次誤差（RxA）の自由度、分散比\n",
        "3. 因子Bの分散比\n",
        "\n",
        "を求めよ。\n",
        "\n",
        "Se realizó un experimento factorial con el factor A (2 niveles) como factor principal y el factor B (3 niveles) como factor secundario, con repetición R (2 veces), obteniendo los datos de la tabla 12.9.\n",
        "\n",
        "Calcule lo siguiente:\n",
        "1. Razón de varianza del factor A\n",
        "2. Grados de libertad del erro primario (RxA), razón de varianza.\n",
        "3. Razón de varianza del factor B"
      ],
      "metadata": {
        "id": "u2m_S3iQy4Yu"
      }
    },
    {
      "cell_type": "code",
      "source": [
        "# Obtener los datos (como lista)\n",
        "st = ss.worksheet(\"Sheet10\")\n",
        "list_of_lists = st.get_all_values()\n",
        "\n",
        "df = pd.DataFrame.from_records(list_of_lists)\n",
        "df.columns = df.iloc[0]\n",
        "df = df.drop(index=0)\n",
        "df = df.apply(pd.to_numeric)\n",
        "\n",
        "print(\"Tabla 12.9 Resultados experimentales\")\n",
        "df"
      ],
      "metadata": {
        "id": "nx-ktOnkt5rz"
      },
      "execution_count": null,
      "outputs": []
    },
    {
      "cell_type": "code",
      "source": [
        "import statsmodels.api as sm\n",
        "from statsmodels.formula.api import ols\n",
        "from scipy.stats import f\n",
        "\n",
        "# Creación de datos\n",
        "data_dict = df.to_dict(orient=\"list\")\n",
        "\n",
        "# Conversión a un DataFrame\n",
        "data = pd.DataFrame(data_dict)\n",
        "\n",
        "# Conversión de los factores A y B en variables cotegóricas\n",
        "data['A'] = data['A'].astype('category')\n",
        "data['B'] = data['B'].astype('category')\n",
        "data['R'] = data['R'].astype('category')\n",
        "\n",
        "# Definición del modelo de análisis de varianza\n",
        "model = ols('x ~ R + A + R:A + B + A:B', data=data).fit()\n",
        "\n",
        "# Tabla de análisis de varianza (ANOVA)\n",
        "anova_table = sm.stats.anova_lm(model, typ=2)\n",
        "\n",
        "# Calcular la media de los cuadrados\n",
        "anova_table['mean_sq'] = anova_table['sum_sq'] / anova_table['df']\n",
        "\n",
        "# Recalcular F0 y el valor p del factor de primer orden\n",
        "adusts = ['R','A' ]\n",
        "for adust in adusts:\n",
        "  anova_table.loc[adust,'F'] = anova_table.loc[adust,'mean_sq']/anova_table.loc['R:A','mean_sq']\n",
        "  anova_table.loc[adust,'PR(>F)'] = f.sf(anova_table.loc[adust,'F'], anova_table.loc[adust,'df'], anova_table.loc['R:A','df'])\n",
        "\n",
        "# Visualización de resultados\n",
        "print(\"Tabla de análisis de varianza (AVOVA):\")\n",
        "print(anova_table)\n",
        "\n",
        "# Razón de varianza del factor A\n",
        "print(f\"\\n1. Razón de varianza del factor A: {anova_table.loc['A','F']:.2f}\")\n",
        "\n",
        "# Grados de libertad del error primario (R:A)\n",
        "print(f\"2. Grados de libertad del error primario (R:A): {anova_table.loc['R:A','df']}、Razón de varianza: {anova_table.loc['R:A','F']:.2f}\")\n",
        "# Razón de varianza del factor B\n",
        "print(f\"3. Razón de varianza del factor B: {anova_table.loc['B','F']:.2f}\")\n"
      ],
      "metadata": {
        "id": "48XetOpG0RJb"
      },
      "execution_count": null,
      "outputs": []
    },
    {
      "cell_type": "markdown",
      "source": [
        "3. 反復Rは有意ではなく分散比も小さいので、一次誤差（RｘA）にプールし、交互作用AxBは有意ではなく、分散比も小さいので２次誤差（Residual）にプールして分散分析表を作成する。\n",
        "\n",
        "\n",
        "3. Como la repetición R no es significativa y la razón de varianza es pequeña, se agrupa con el error primario (RxA). Además, dado que la interacción AxB no es significativa y la razón de varianza es pequeña, se agrupa con el error secundario (Residual) para elaborar la tabla de análisis de varianza."
      ],
      "metadata": {
        "id": "7HUySPyk9Ocj"
      }
    },
    {
      "cell_type": "code",
      "source": [
        "def pool(anova_table, pool_factors, pool_):\n",
        "  # Calcular el error agrupado (pooling)\n",
        "  pooled_error_ss = anova_table.loc[pool_factors, 'sum_sq'].sum()  # Calucar el error agrupado (pooling)\n",
        "  pooled_error_df = anova_table.loc[pool_factors, 'df'].sum()      # Calucar el grados de libertad agrupado (pooling)\n",
        "\n",
        "  # Tabla de análisis de varianza de los factores\n",
        "  anova_table = anova_table.drop(index=pool_factors)\n",
        "\n",
        "  # Actualizar el término de error\n",
        "  anova_table.loc[pool_] = [\n",
        "      anova_table.loc[pool_, 'sum_sq'] + pooled_error_ss,  # Nueva suma de cuadrados del error\n",
        "      anova_table.loc[pool_, 'df'] + pooled_error_df,      # Nuevos grados de libertad\n",
        "      None,  # Mean Square\n",
        "      None   # F-statistic\n",
        "  ]\n",
        "\n",
        "  # Calcular la media de los cuadrados\n",
        "  anova_table['mean_sq'] = anova_table['sum_sq'] / anova_table['df']\n",
        "\n",
        "  # Calcular el valor F\n",
        "  anova_table['F'] = anova_table['mean_sq'] / anova_table.loc['Residual', 'mean_sq']\n",
        "\n",
        "  # Calcular el valor p\n",
        "  anova_table['PR(>F)'] = f.sf(anova_table['F'], anova_table['df'], anova_table.loc['Residual', 'df'])\n",
        "\n",
        "  return anova_table"
      ],
      "metadata": {
        "id": "eSkUTuNf0RM_"
      },
      "execution_count": null,
      "outputs": []
    },
    {
      "cell_type": "code",
      "source": [
        "\n",
        "\n",
        "# Obtener la tabla de análisis de varianza\n",
        "anova_table = sm.stats.anova_lm(model, typ=2)\n",
        "anova_table = pool(anova_table,['R'], 'R:A')\n",
        "\n",
        "anova_table = anova_table.drop(columns=anova_table.columns[-1])\n",
        "anova_table = pool(anova_table, ['A:B'], 'Residual')\n",
        "\n",
        "# Recalcular F0 y el valor p del factor de primer orden\n",
        "adusts = ['A' ]\n",
        "for adust in adusts:\n",
        "  anova_table.loc[adust,'F'] = anova_table.loc[adust,'mean_sq']/anova_table.loc['R:A','mean_sq']\n",
        "  anova_table.loc[adust,'PR(>F)'] = f.sf(anova_table.loc[adust,'F'], anova_table.loc[adust,'df'], anova_table.loc['R:A','df'])\n",
        "\n",
        "# Mostrar los resultados\n",
        "print(\"Tabla 12.11 Tabla de análisis de varianza (después de pooling):\")\n",
        "print(anova_table)"
      ],
      "metadata": {
        "id": "nGHG7ccV0RQE"
      },
      "execution_count": null,
      "outputs": []
    },
    {
      "cell_type": "markdown",
      "source": [
        "4. 因子A、Bの最適水準組み合わせにおける、母平均と９５％信頼区間をもとめる。\n",
        "\n",
        "\n",
        "4. Calcular la media poblacional y el intervalo de confianza del 95% para la combinación de niveles de los factores A y B."
      ],
      "metadata": {
        "id": "-N2Q37PDmG5Q"
      }
    },
    {
      "cell_type": "code",
      "source": [
        "import scipy.stats as stats\n",
        "\n",
        "# Varianza del error\n",
        "mse_error = anova_table.loc['Residual', 'mean_sq']\n",
        "\n",
        "# Valor medio para cada combinación de niveles de factores\n",
        "group_means = df.groupby(['A', 'B'])['x'].mean()\n",
        "\n",
        "# Cálcuro de Intervalo de confianza de 95%\n",
        "n_r = df['R'].nunique()  # Número de repeticiones\n",
        "df_error = anova_table.loc['Residual', 'df']\n",
        "t_critical = stats.t.ppf(0.975, df_error)  # Intervalo de confianza de 95%\n",
        "se_mean = np.sqrt(mse_error / n_r)\n",
        "ci_lower = group_means - t_critical * se_mean\n",
        "ci_upper = group_means + t_critical * se_mean\n",
        "\n",
        "# Combinación de factores en la que el valor\n",
        "max_idx = group_means.idxmax()\n",
        "max_mean = group_means[max_idx]\n",
        "max_ci_lower = ci_lower[max_idx]\n",
        "max_ci_upper = ci_upper[max_idx]\n",
        "\n",
        "#\n",
        "print(f\"Factor A={max_idx[0]}, Factor B={max_idx[1]}\")\n",
        "print(f\"Media poblacional: {max_mean:.2f}\")\n",
        "print(f\"Intervalo de confianza de 95%: ({max_ci_lower:.2f}, {max_ci_upper:.2f})\")\n"
      ],
      "metadata": {
        "id": "G5eBmMuDXRkH"
      },
      "execution_count": null,
      "outputs": []
    },
    {
      "cell_type": "markdown",
      "source": [
        "## 12.9\n",
        "\n",
        "わが社は、押し出し成型用のプラスチック原料である製品Qを製造している。Qの重要な品質特性は、成分Rの含有量ｘであるが、最近、納入先より、この含有量のバラつきが大きいのではないかとの苦情が寄せられた。\n",
        "\n",
        "含有量ｘのバラつき発生状況の調査を行うために次のような実験を行った。\n",
        "\n",
        "調査は、原料ロットをランダムに３ロット（Ｌ１，Ｌ２，Ｌ３）採取し、各ロットから製造された袋の中から２袋をランダムに選択し、各袋の製品成分Ｒの含有量ｘを２回測定して、表１２．２のデータを得た。\n",
        "\n",
        "\n",
        "\n",
        "Nuestra empresa fabrica el producto Q, una materia príma plástica para moldeo por extrusión. Una característica de calidad importante de Q es el contenido de R (x). Sin embargo, recientemente hemos recibido quejas de los clientes sobre una posible gran variabilidad en este contenido.\n",
        "\n",
        "Par investigar la variabilidad en el contenido de x, se realizó el siguiente experimento:\n",
        "\n",
        "Se seleccionaron aleatriamente tres lotes de materia prima (L1, L2, L3). De cada lote, se eligieron al azar dos sacos de producto, y en cada saco, se midió dos veces el contenido de R, obteniéndose los datos en la Tabla 12.2.\n",
        "\n"
      ],
      "metadata": {
        "id": "VXh2VmSRX63E"
      }
    },
    {
      "cell_type": "code",
      "source": [
        "# Obtener los datos (como lista)\n",
        "st = ss.worksheet(\"Sheet11\")\n",
        "list_of_lists = st.get_all_values()\n",
        "\n",
        "df = pd.DataFrame.from_records(list_of_lists)\n",
        "df.columns = df.iloc[0]\n",
        "df = df.drop(index=0)\n",
        "df = df.apply(pd.to_numeric)\n",
        "\n",
        "print(\"Tabla 12.12 Resultados experimentales\")\n",
        "print(df)"
      ],
      "metadata": {
        "id": "JJ6aj6nynbnp"
      },
      "execution_count": null,
      "outputs": []
    },
    {
      "cell_type": "markdown",
      "source": [
        "μを一般平均、ロット（要因L）によるばらつきを $ \\alpha $、袋（要因S）の違いによるばらつきを $ \\beta $、測定（要因M）のバラつきを $ \\epsilon $ として、データの構造式を作成\n",
        "\n",
        "1. 分散分析表\n",
        "2. 要因Sの平方和と自由度、\n",
        "3. 要因Lに対する分散比、要因Sに対する分散比\n",
        "4. 要因L、Sの分散成分の推定\n",
        "\n",
        "Definiendo $ \\mu $ como la media general, la variabilidad debida al lote (factor L) como $ \\alpha $ la variabilidad debida a las diferencias entre sacos (factor S) como $ \\beta $, y la variabilidad en la medición (factor M) como $ \\epsilon $, se debe formular la estructura de los datos.\n",
        "\n",
        "Además se debe calcular lo siguiente:\n",
        "1. La tabla de análisis de varianza.\n",
        "2. La suma de cuadrados y los grados de libertad del factor S.\n",
        "3. La razón de varianza con respecto al factor L y la razó de varianza con respecto al factor S.\n",
        "4. La estimación de los componentes de varianza de los factores L y S.\n",
        "\n"
      ],
      "metadata": {
        "id": "9k0qL7T2y-we"
      }
    },
    {
      "cell_type": "markdown",
      "source": [
        "* $ x_{ijk} = \\mu + \\alpha_i + \\beta_{ij} + \\epsilon_{ijk} $"
      ],
      "metadata": {
        "id": "-uFcgl2gyDD1"
      }
    },
    {
      "cell_type": "code",
      "source": [
        "# Creación de datos\n",
        "data_dict = df.to_dict(orient=\"list\")\n",
        "\n",
        "# Conversión a un DataFrame\n",
        "data = pd.DataFrame(data_dict)\n",
        "\n",
        "# Conversión de los factores A y B en variables cotegóricas\n",
        "data['L'] = data['L'].astype('category')\n",
        "data['S'] = data['S'].astype('category')\n",
        "data['M'] = data['M'].astype('category')\n",
        "\n",
        "# Definición del modelo de análisis de varianza\n",
        "model = ols('x ~ L + L:S ', data=data).fit()\n",
        "\n",
        "# Tabla de análisis de varianza (ANOVA)\n",
        "anova_table = sm.stats.anova_lm(model, typ=2)\n",
        "\n",
        "anova_table['mean_sq'] = anova_table['sum_sq'] / anova_table['df']\n",
        "\n",
        "# Recalcular F0 y el valor p del factor de primer orden\n",
        "adusts = ['L' ]\n",
        "for adust in adusts:\n",
        "  anova_table.loc[adust,'F'] = anova_table.loc[adust,'mean_sq']/anova_table.loc['L:S','mean_sq']\n",
        "\n",
        "print(\"Tabla 12.18 Tabla de análisis de varianza (AVOVA):\")\n",
        "print(anova_table)\n",
        "\n",
        "# La suma de cuadrados y los grados de libertad del factor S.\n",
        "SS = anova_table.loc['L:S', 'sum_sq']\n",
        "DF = anova_table.loc['L:S', 'df']\n",
        "print(f\"\\nSuma de cuadrados del factor S: {SS:.0f}  Grados de libertad: {DF}\")\n",
        "\n",
        "# La razón de varianza con respecto al factor L y la razó de varianza con respecto al factor S.\n",
        "VL_S = anova_table.loc['L', 'F']\n",
        "VM_S = anova_table.loc['L:S', 'F']\n",
        "print(f\"Razón de varianza con respecto al factor L: {VL_S:.2f}\")\n",
        "print(f\"Razón de varianza con respecto al factor S: {VM_S:.2f}\")"
      ],
      "metadata": {
        "id": "AeZOFkwvnbrD"
      },
      "execution_count": null,
      "outputs": []
    },
    {
      "cell_type": "markdown",
      "source": [
        "La estimación de los componentes de varianza de los factores L y S.\n",
        "\n",
        "$ E(V_L) = \\sigma_M^2 + n \\sigma_S^2 + mn \\sigma_L^2  $\n",
        "\n",
        "$ E(V_S) = \\sigma_M^2 + \\sigma_S^2 $\n",
        "\n",
        "$ E(V_M) = \\sigma_M^2 $"
      ],
      "metadata": {
        "id": "AON7gnTi61U7"
      }
    },
    {
      "cell_type": "code",
      "source": [
        "m = 2\n",
        "n = 2\n",
        "\n",
        "VS = anova_table.loc['L:S', 'mean_sq']\n",
        "VL = anova_table.loc['L', 'mean_sq']\n",
        "VM = anova_table.loc['Residual', 'mean_sq']\n",
        "\n",
        "print(f\"Estimación del componete de varianza L ：{(VL-VS)/(m*n):.1f}\")\n",
        "print(f\"Estimación del componete de varianza S：{(VS-VM)/(n):.1f}\")\n",
        "print(f\"Estimación del componete de varianza M：{VM:.1f}\")"
      ],
      "metadata": {
        "id": "rGHCX0HCnbuF"
      },
      "execution_count": null,
      "outputs": []
    },
    {
      "cell_type": "markdown",
      "source": [],
      "metadata": {
        "id": "BAII_p5RG8ct"
      }
    },
    {
      "cell_type": "code",
      "source": [],
      "metadata": {
        "id": "rVuRbGVltLA4"
      },
      "execution_count": null,
      "outputs": []
    }
  ]
}