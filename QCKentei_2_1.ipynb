{
  "nbformat": 4,
  "nbformat_minor": 0,
  "metadata": {
    "colab": {
      "provenance": [],
      "authorship_tag": "ABX9TyMWrQij0hL/9KLaCrwfin1z",
      "include_colab_link": true
    },
    "kernelspec": {
      "name": "python3",
      "display_name": "Python 3"
    },
    "language_info": {
      "name": "python"
    }
  },
  "cells": [
    {
      "cell_type": "markdown",
      "metadata": {
        "id": "view-in-github",
        "colab_type": "text"
      },
      "source": [
        "<a href=\"https://colab.research.google.com/github/HiroshiATakano/QC_Kentei/blob/main/QCKentei_2_1.ipynb\" target=\"_parent\"><img src=\"https://colab.research.google.com/assets/colab-badge.svg\" alt=\"Open In Colab\"/></a>"
      ]
    },
    {
      "cell_type": "markdown",
      "source": [
        "# Métodos de recopilación y resumen de datos"
      ],
      "metadata": {
        "id": "20JajxqSCkJ2"
      }
    },
    {
      "cell_type": "code",
      "execution_count": null,
      "metadata": {
        "colab": {
          "base_uri": "https://localhost:8080/"
        },
        "id": "wilb_HMmobkA",
        "outputId": "eae6bb9f-71f4-4df9-c8fc-aecac74f4af2"
      },
      "outputs": [
        {
          "output_type": "stream",
          "name": "stdout",
          "text": [
            "Drive already mounted at /content/drive/; to attempt to forcibly remount, call drive.mount(\"/content/drive/\", force_remount=True).\n"
          ]
        }
      ],
      "source": [
        "from google.colab import drive\n",
        "drive.mount('/content/drive/')"
      ]
    },
    {
      "cell_type": "code",
      "source": [
        "def ensure_and_move_to_folder(folder_name):\n",
        "  current_dir = os.getcwd()\n",
        "  target_path = os.path.join(current_dir, folder_name)\n",
        "\n",
        "  if not os.path.exists(target_path):\n",
        "    os.makedirs(target_path)\n",
        "    print(f\"Folder '{folder_name}' created successfully.\")\n",
        "  else:\n",
        "    print(f\"Folder '{folder_name}' already exists.\")\n",
        "\n",
        "  #os.chdir(target_path)"
      ],
      "metadata": {
        "id": "gWpAGkOCC-3i"
      },
      "execution_count": null,
      "outputs": []
    },
    {
      "cell_type": "code",
      "source": [
        "import os\n",
        "import glob\n",
        "\n",
        "folder_name = 'QC_Kentei'\n",
        "ensure_and_move_to_folder(folder_name)\n",
        "\n",
        "path = os.getcwd()\n",
        "\n",
        "try:\n",
        "  os.chdir(path + '/drive/My Drive/QC_Kentei')\n",
        "except:\n",
        "  pass\n",
        "\n",
        "os.getcwd()"
      ],
      "metadata": {
        "colab": {
          "base_uri": "https://localhost:8080/",
          "height": 53
        },
        "id": "0D71QGZRqNn5",
        "outputId": "fccbb46e-8778-4aa4-aede-32be49d2d2a0"
      },
      "execution_count": null,
      "outputs": [
        {
          "output_type": "stream",
          "name": "stdout",
          "text": [
            "Folder 'QC_Kentei' already exists.\n"
          ]
        },
        {
          "output_type": "execute_result",
          "data": {
            "text/plain": [
              "'/content/drive/My Drive/QC_Kentei'"
            ],
            "application/vnd.google.colaboratory.intrinsic+json": {
              "type": "string"
            }
          },
          "metadata": {},
          "execution_count": 56
        }
      ]
    },
    {
      "cell_type": "code",
      "source": [
        "folder_name = 'Data_2'\n",
        "ensure_and_move_to_folder(folder_name)"
      ],
      "metadata": {
        "colab": {
          "base_uri": "https://localhost:8080/"
        },
        "id": "_SEODPPkQLXu",
        "outputId": "d18149bd-b54f-4aba-c6a9-fbab34a56c38"
      },
      "execution_count": null,
      "outputs": [
        {
          "output_type": "stream",
          "name": "stdout",
          "text": [
            "Folder 'Data_2' already exists.\n"
          ]
        }
      ]
    },
    {
      "cell_type": "code",
      "source": [
        "import numpy as np\n",
        "import pandas as pd\n",
        "import matplotlib.pyplot as plt\n",
        "#import japanize_matplotlib\n",
        "import gspread\n",
        "\n",
        "from google.colab import auth\n",
        "auth.authenticate_user()\n",
        "\n",
        "from google.auth import default\n",
        "creds, _ = default()\n",
        "gc = gspread.authorize(creds)\n",
        "\n",
        "from gspread_dataframe import get_as_dataframe, set_with_dataframe"
      ],
      "metadata": {
        "id": "EWyE0EM4qXNy"
      },
      "execution_count": null,
      "outputs": []
    },
    {
      "cell_type": "markdown",
      "source": [
        "## 01-01 Población y muestra\n",
        "\n",
        "### 1. Tipos de datos\n",
        "\n",
        "#### (1) Datos de medición (Valores cuantitativos continuos)\n",
        "* Son datos obtenidos mediante la medición\n",
        "* Pueden tomar valores continuos\n",
        "\n",
        "#### (2) Datos de conteo (Valores cuantitativos discritos)\n",
        "* Son datos obtenidos mediante el conteo.\n",
        "* Son discretos y toman valores discontinuos.\n",
        "\n",
        "#### (3) Datos categóricos\n",
        "* Datos categóticos puros\n",
        "* Datos categóricos ordinales\n",
        "\n",
        "#### (4) Datos ordinales\n",
        "* Datos ordinales\n",
        "* Datos lingüisticos\n",
        "\n",
        "\n",
        "\n"
      ],
      "metadata": {
        "id": "dZj60Kp0FeQU"
      }
    },
    {
      "cell_type": "markdown",
      "source": [
        "### 2. Población y muestra\n",
        "* Población\n",
        "* Muestra\n",
        "* Muestreo\n",
        "* Población infinita\n",
        "* Población finita"
      ],
      "metadata": {
        "id": "yqI1XzmjU9ZD"
      }
    },
    {
      "cell_type": "markdown",
      "source": [
        "### 3. Estadisticos básicos\n",
        "* Estadístico\n",
        "* Estadístico descriptivos\n",
        "* Distribución\n",
        "\n",
        "#### (1) Estadisticos básicos que representan el centro de la distribución\n",
        "1. Media $ \\bar{x} $\n",
        "* Media = Suma de los datos / Número de los datos\n",
        "2. Mediana\n",
        "* El valor central cuando los datos se ordenan por tamaño\n",
        "3. Moda\n",
        "* El valor que aparece con mayor frecuencia en los datos\n",
        "\n",
        "#### (2) Estadísticos básicos que representan la variabilidad de la distribución\n",
        "1. Suma de los cuadrados $ S $\n",
        "* $ S = (x_1 - \\bar{x} )^2  + (x_2 - \\bar{x})^2 $\n",
        "  $ + ... + (x_n - \\bar{x})^2 $\n",
        "  $ = \\sum (x_i - \\bar{x})^2 $\n",
        "2. Varianza $ V $\n",
        "* $ V = S / (n-1) = \\sum(x_i -\\bar{x})^2 / (n-1) $\n",
        "3. Desviación estándar $ s $\n",
        "* $ s = \\sqrt{V} = \\sqrt{S - (n-1)}$\n",
        "4. Rango $ R $\n",
        "* $ R = x_{max} - x_{min} $\n",
        "5. Cuartiles\n",
        "* Los cuartiles son el 25% y el 75% de la distribución\n",
        "* Rango intercuartílico = Tercer cuartil - Primer cuartil\n",
        "6. Coeficiente de variación $ CV $\n",
        "* $ CV = s / \\bar{x} \\times 100 $ (%)\n"
      ],
      "metadata": {
        "id": "1rIA3YcdgrTU"
      }
    },
    {
      "cell_type": "markdown",
      "source": [
        "## 1-1\n",
        "\n",
        "下記の１５個のデータについて、モード、第一四分位数、第３四分位数、四分位範囲を求めよ。\n",
        "\n",
        "\n",
        "Determina la moda, el primer cuartil, el tercer cuartil y el rango intercuartilico para los giguientes 15 datos.\n",
        "\n",
        "\n",
        "\n",
        "\n"
      ],
      "metadata": {
        "id": "nbyY8O0iU9kP"
      }
    },
    {
      "cell_type": "code",
      "source": [
        "url = \"https://docs.google.com/spreadsheets/d/1Ma7ehT4TAnkUwJjspP-C3mwJA1hYmbJr8B9GJSFI0lU/edit?usp=sharing\"\n",
        "ss = gc.open_by_url(url)\n",
        "\n",
        "# Obtener los datos (como lista)\n",
        "st = ss.worksheet(\"Sheet16\")\n",
        "list_of_lists = st.get_all_values()\n",
        "\n",
        "df = pd.DataFrame.from_records(list_of_lists)\n",
        "df.columns = df.iloc[0]\n",
        "df = df.drop(index=0)\n",
        "\n",
        "df = df.apply(pd.to_numeric)\n",
        "\n",
        "df.to_excel(\"Data_2/1_1.xlsx\",index=False)\n",
        "\n",
        "data = df['Data'].to_numpy()\n",
        "\n",
        "data"
      ],
      "metadata": {
        "colab": {
          "base_uri": "https://localhost:8080/"
        },
        "id": "yRJPPGKsC2X4",
        "outputId": "9c5339ba-371e-4f6e-d694-9c836b65a82e"
      },
      "execution_count": null,
      "outputs": [
        {
          "output_type": "execute_result",
          "data": {
            "text/plain": [
              "array([ 9, 10, 10, 10, 12, 15, 26, 26, 26, 26, 33, 33, 35, 40, 42])"
            ]
          },
          "metadata": {},
          "execution_count": 59
        }
      ]
    },
    {
      "cell_type": "code",
      "source": [
        "import scipy.stats as stats\n",
        "\n",
        "# Moda (valor más frecuente)\n",
        "mode_value = stats.mode(data, keepdims=True)[0][0]\n",
        "\n",
        "# Cuartiles y rango intercuartilico\n",
        "Q1 = np.percentile(data, 25)  # Primer cuartil (Q1)\n",
        "Q3 = np.percentile(data, 75)  # Tercer cuartil (Q3)\n",
        "IQR = Q3 - Q1  # Rango intercuartilico (IQR)\n",
        "\n",
        "# Visualización de resultados\n",
        "print(f\"Moda (valor más frecuente): {mode_value}\")\n",
        "print(f\"Primer cuartil (Q1): {Q1}\")\n",
        "print(f\"Tercer cuartil (Q3): {Q3}\")\n",
        "print(f\"Rango intercuartilico (IQR): {IQR}\")\n",
        "\n",
        "# Creación del diagrama de caja\n",
        "plt.figure(figsize=(8, 5))\n",
        "box = plt.boxplot(data, vert=False, patch_artist=True, boxprops=dict(facecolor=\"lightblue\"))\n",
        "\n",
        "# Adición de anotaciones\n",
        "plt.text(Q1, 1.1, f\"Q1: {Q1}\", horizontalalignment='center', color='red')\n",
        "plt.text(Q3, 1.1, f\"Q3: {Q3}\", horizontalalignment='center', color='red')\n",
        "plt.text(mode_value, 1.15, f\"Mode: {mode_value}\", horizontalalignment='center', color='blue')\n",
        "plt.text((Q1 + Q3) / 2, 1.2, f\"IQR: {IQR}\", horizontalalignment='center', color='green')\n",
        "\n",
        "# Ejes y titulo\n",
        "plt.title(\"Visualización del diagrama de caja y estadisticas\")\n",
        "plt.xlabel(\"Data\")\n",
        "plt.grid(True)\n",
        "plt.show()\n",
        "\n",
        "\n"
      ],
      "metadata": {
        "colab": {
          "base_uri": "https://localhost:8080/",
          "height": 557
        },
        "id": "zFnf43yaFZdH",
        "outputId": "80aa9012-8eb9-410d-8671-6782dbd2fc99"
      },
      "execution_count": null,
      "outputs": [
        {
          "output_type": "stream",
          "name": "stdout",
          "text": [
            "Moda (valor más frecuente): 26\n",
            "Primer cuartil (Q1): 11.0\n",
            "Tercer cuartil (Q3): 33.0\n",
            "Rango intercuartilico (IQR): 22.0\n"
          ]
        },
        {
          "output_type": "display_data",
          "data": {
            "text/plain": [
              "<Figure size 800x500 with 1 Axes>"
            ],
            "image/png": "[encoded data removed]"
          },
          "metadata": {}
        }
      ]
    },
    {
      "cell_type": "markdown",
      "source": [
        "#### (3) Índice de capaciadad del proceso (Cpk)\n",
        "\n",
        "* La capacidad de un proceso para producir productos de calidad se llama capacidad del proceso.\n",
        "* Como métode para evaluar la capacidad del proceso, se utiliza el índice de capacidad del proceso $ C_{p} $, que representa la ralación entre la variabilidad del proceso y el range de las especificaciones del producto.\n",
        "* Índice de capacidad del proceso para especificaciones bilaterales $ C_p = (S_U - S_L) / 6s $\n",
        "* Índice de capacidad del proceso para especificación inferior $ C_p = (\\bar{x}- S_L ) / 3s $\n",
        "* Índice de capacidad del proceso para especificación superior $ C_p = (S_U - \\bar{x}) / 3s $\n",
        "* Índice capacidad del proceso considerando el sesgo: Tomar el valor más pequeño entre $ C_{pk} = (\\bar{x} - S_L)/3s $ o $ C_{pk} = (S_U - \\bar{x}) / 3s $"
      ],
      "metadata": {
        "id": "5ZTqj3T9kwfY"
      }
    },
    {
      "cell_type": "markdown",
      "source": [
        "## 01-02 Tipos y características del muestreo\n",
        "\n",
        "### 1. Muestreo alieatorio\n",
        "* Muestra de manera que todos los elementos que componen la población tengan la misma probabilidad de ser seleccionados como muestra.\n",
        "\n",
        "### 2. Muestreo en dos etapas\n",
        "* Es un método de muestreo en dos etapas, donde la población está dividida en unidades primarias. Primero se realiza un muestreo aleatorio de las unidades primarias y luego, se realiza un muestreo aleatorio de las unidades secundarias dentro de las unidades primarias seleccionadas para realizar la investigación.\n",
        "\n",
        "### 3. Muestreo estratificado\n",
        "* Cuando una población está compuesta por varias partes heterogéneas, el muestreo estratificado divide la población en esas partes (unidades primarias) y, de cada estrato (unidad primaria), se realiza un muestreo aleatorio de unidades secundarias para llevar a cabo la investigación.\n",
        "\n",
        "### 4. Muestreo por conglomerados\n",
        "* Es un método en el que, cuando la población está dividida en unidades primarias, se realiza un muestreo aleatorio de las unidades primarias y luego se investigan todas las unidades secundarias contenidas en las unidades primarias seleccionadas.\n",
        "\n",
        "### 5. Muestreo sistemático\n",
        "* Es un método en el que se realiza un muestreo de los productos dispuestos en orden, tomando una muestra a intervalos regulares."
      ],
      "metadata": {
        "id": "Ech5c0-OtfPH"
      }
    },
    {
      "cell_type": "code",
      "source": [
        "notebook_name = 'QCKentei_2-1.ipynb'\n",
        "notebook_name_html = notebook_name.replace(\".ipynb\",\".html\")\n",
        "\n",
        "!jupyter nbconvert --to html {notebook_name}\n",
        "!mv {notebook_name_html} ../html/"
      ],
      "metadata": {
        "colab": {
          "base_uri": "https://localhost:8080/"
        },
        "id": "iHxiMK0euk1i",
        "outputId": "cdd19978-6862-4d8f-c78c-9e6b1e27a811"
      },
      "execution_count": null,
      "outputs": [
        {
          "output_type": "stream",
          "name": "stdout",
          "text": [
            "[NbConvertApp] Converting notebook QCKentei_2-1.ipynb to html\n",
            "[NbConvertApp] WARNING | Alternative text is missing on 1 image(s).\n",
            "[NbConvertApp] Writing 328762 bytes to QCKentei_2-1.html\n"
          ]
        }
      ]
    },
    {
      "cell_type": "code",
      "source": [
        "import glob\n",
        "\n",
        "# 取得したいフォルダーのパスを指定\n",
        "folder_path = os.getcwd()  #\n",
        "\n",
        "# 指定フォルダー内の `.ipynb` ファイルを取得\n",
        "notebooks = glob.glob(folder_path + \"/*.ipynb\")\n",
        "\n",
        "# ファイル名だけ取得\n",
        "notebook_names = [os.path.basename(nb) for nb in notebooks]\n",
        "\n",
        "for notebook_name in notebook_names:\n",
        "  notebook_name_html = notebook_name.replace(\".ipynb\",\".html\")\n",
        "  print(notebook_name + '  ->  ' + notebook_name_html)\n",
        "  #!jupyter nbconvert --to html {notebook_name}\n",
        "  #!mv {notebook_name_html} ../html/\n",
        "\n",
        "\n"
      ],
      "metadata": {
        "colab": {
          "base_uri": "https://localhost:8080/"
        },
        "id": "EGh-tbeRuzK3",
        "outputId": "07cad256-a807-4216-d4c4-8754572d82c6"
      },
      "execution_count": null,
      "outputs": [
        {
          "output_type": "stream",
          "name": "stdout",
          "text": [
            "Level2_5.ipynb  ->  Level2_5.html\n",
            "Level2_11 (1).ipynb  ->  Level2_11 (1).html\n",
            "Level2_10.ipynb  ->  Level2_10.html\n",
            "Level2_11.ipynb  ->  Level2_11.html\n",
            "Level2_12.ipynb  ->  Level2_12.html\n",
            "Level2_14.ipynb  ->  Level2_14.html\n",
            "Level2_15.ipynb  ->  Level2_15.html\n",
            "Level3_6.ipynb  ->  Level3_6.html\n",
            "Level3_7.ipynb  ->  Level3_7.html\n",
            "Level3_9.ipynb  ->  Level3_9.html\n",
            "Level3_12.ipynb  ->  Level3_12.html\n",
            "Level4_8.ipynb  ->  Level4_8.html\n",
            "Level2_4.ipynb  ->  Level2_4.html\n",
            "Level2_16.ipynb  ->  Level2_16.html\n",
            "Level2_2.ipynb  ->  Level2_2.html\n",
            "Level2_13.ipynb  ->  Level2_13.html\n",
            "Level3_10.ipynb  ->  Level3_10.html\n",
            "Level1_10.ipynb  ->  Level1_10.html\n",
            "QCKentei_1-10.ipynb  ->  QCKentei_1-10.html\n",
            "QCKentei_1-3.ipynb  ->  QCKentei_1-3.html\n",
            "QCKentei_1-4.ipynb  ->  QCKentei_1-4.html\n",
            "QCKentei_1-5.ipynb  ->  QCKentei_1-5.html\n",
            "QCKentei_1-6.ipynb  ->  QCKentei_1-6.html\n",
            "QCKentei_1-8.ipynb  ->  QCKentei_1-8.html\n",
            "QCkentei_1-7.ipynb  ->  QCkentei_1-7.html\n",
            "QCKentei_1-9.ipynb  ->  QCKentei_1-9.html\n",
            "Level1_2.ipynb  ->  Level1_2.html\n",
            "Level1_8.ipynb  ->  Level1_8.html\n",
            "QCKentei_1-2 .ipynb  ->  QCKentei_1-2 .html\n",
            "Level1_9.ipynb  ->  Level1_9.html\n",
            "QCKentei_1-12.ipynb  ->  QCKentei_1-12.html\n",
            "Level1_14.ipynb  ->  Level1_14.html\n",
            "Level1_15.ipynb  ->  Level1_15.html\n",
            "QCKentei_1-11.ipynb  ->  QCKentei_1-11.html\n",
            "Level1_7.ipynb  ->  Level1_7.html\n",
            "Level1_16.ipynb  ->  Level1_16.html\n",
            "Level1_6.ipynb  ->  Level1_6.html\n",
            "Level1_5.ipynb  ->  Level1_5.html\n",
            "QCKentei_1-13.ipynb  ->  QCKentei_1-13.html\n",
            "Level1_12.ipynb  ->  Level1_12.html\n",
            "QCKentei_1-1.ipynb  ->  QCKentei_1-1.html\n",
            "QCKentei_1-15.ipynb  ->  QCKentei_1-15.html\n",
            "QCKentei_1-14.ipynb  ->  QCKentei_1-14.html\n",
            "Level1_11.ipynb  ->  Level1_11.html\n",
            "QCKentei_2-1.ipynb  ->  QCKentei_2-1.html\n"
          ]
        }
      ]
    },
    {
      "cell_type": "code",
      "source": [],
      "metadata": {
        "id": "yK8jN6hVwoct"
      },
      "execution_count": null,
      "outputs": []
    }
  ]
}